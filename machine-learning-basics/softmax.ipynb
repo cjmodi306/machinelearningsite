{
  "nbformat": 4,
  "nbformat_minor": 0,
  "metadata": {
    "colab": {
      "name": "softmax.ipynb",
      "provenance": [],
      "collapsed_sections": []
    },
    "kernelspec": {
      "name": "python3",
      "display_name": "Python 3"
    },
    "language_info": {
      "name": "python"
    }
  },
  "cells": [
    {
      "cell_type": "code",
      "execution_count": null,
      "metadata": {
        "id": "G-guc36PFfVs"
      },
      "outputs": [],
      "source": [
        "import numpy as np"
      ]
    },
    {
      "cell_type": "code",
      "source": [
        "def softmax(z, X):\n",
        "  s = np.exp(z)/np.sum(np.exp(X))\n",
        "  return s"
      ],
      "metadata": {
        "id": "DnF7xUqPFolJ"
      },
      "execution_count": null,
      "outputs": []
    },
    {
      "cell_type": "code",
      "source": [
        "def sigmoid(z):\n",
        "  sig = 1/(1+np.exp(-z))\n",
        "  return sig"
      ],
      "metadata": {
        "id": "idVsV_oPLUDd"
      },
      "execution_count": null,
      "outputs": []
    },
    {
      "cell_type": "code",
      "source": [
        "#arr = np.array([[-0.5, 1.2, -0.1, 2.4]])\n",
        "arr = np.random.randn(1,4)\n",
        "arr, arr.mean()"
      ],
      "metadata": {
        "colab": {
          "base_uri": "https://localhost:8080/"
        },
        "id": "kr--3exAHy7F",
        "outputId": "e4d84e77-a682-486e-bc05-dce331a71a27"
      },
      "execution_count": null,
      "outputs": [
        {
          "output_type": "execute_result",
          "data": {
            "text/plain": [
              "(array([[ 2.02384511, -2.20854988,  0.86623596, -0.85088016]]),\n",
              " -0.04233724269802153)"
            ]
          },
          "metadata": {},
          "execution_count": 14
        }
      ]
    },
    {
      "cell_type": "code",
      "source": [
        "out_sm = np.zeros((arr.shape))\n",
        "out_sig = np.zeros((arr.shape))"
      ],
      "metadata": {
        "id": "pAXkV5KSIVBw"
      },
      "execution_count": null,
      "outputs": []
    },
    {
      "cell_type": "code",
      "source": [
        "for i in range(out_sm.shape[1]):\n",
        "  out_sm[0,i] = softmax(arr[0,i], arr)\n",
        "  out_sig[0,i] = sigmoid(arr[0,i])"
      ],
      "metadata": {
        "id": "07i58FzAI9PQ"
      },
      "execution_count": null,
      "outputs": []
    },
    {
      "cell_type": "code",
      "source": [
        "out_sm, out_sig"
      ],
      "metadata": {
        "colab": {
          "base_uri": "https://localhost:8080/"
        },
        "id": "wh54bvuvO_qD",
        "outputId": "05495640-9273-4ebe-c9c2-fdcfdde6113a"
      },
      "execution_count": null,
      "outputs": [
        {
          "output_type": "execute_result",
          "data": {
            "text/plain": [
              "(array([[0.72192481, 0.0104806 , 0.22685518, 0.0407394 ]]),\n",
              " array([[0.88327802, 0.09898533, 0.70396188, 0.29924826]]))"
            ]
          },
          "metadata": {},
          "execution_count": 17
        }
      ]
    },
    {
      "cell_type": "code",
      "source": [
        "np.sum(out_sm), np.sum(out_sig)"
      ],
      "metadata": {
        "colab": {
          "base_uri": "https://localhost:8080/"
        },
        "id": "dQO9YVcuJNPg",
        "outputId": "05e862b1-4005-479b-9762-39ade20e029b"
      },
      "execution_count": null,
      "outputs": [
        {
          "output_type": "execute_result",
          "data": {
            "text/plain": [
              "(0.9999999999999999, 2.2370045452061604)"
            ]
          },
          "metadata": {},
          "execution_count": 7
        }
      ]
    }
  ]
}
